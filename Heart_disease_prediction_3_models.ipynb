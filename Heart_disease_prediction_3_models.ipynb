{
  "nbformat": 4,
  "nbformat_minor": 0,
  "metadata": {
    "colab": {
      "provenance": [],
      "collapsed_sections": [],
      "include_colab_link": true
    },
    "kernelspec": {
      "name": "python3",
      "display_name": "Python 3"
    },
    "language_info": {
      "name": "python"
    }
  },
  "cells": [
    {
      "cell_type": "markdown",
      "metadata": {
        "id": "view-in-github",
        "colab_type": "text"
      },
      "source": [
        "<a href=\"https://colab.research.google.com/github/shrutibhosale185/Heart-Disease-Prediction/blob/main/Heart_disease_prediction_3_models.ipynb\" target=\"_parent\"><img src=\"https://colab.research.google.com/assets/colab-badge.svg\" alt=\"Open In Colab\"/></a>"
      ]
    },
    {
      "cell_type": "code",
      "execution_count": null,
      "metadata": {
        "colab": {
          "base_uri": "https://localhost:8080/",
          "height": 833
        },
        "id": "9ZRTIhnwu5n9",
        "outputId": "b41dd608-f1d7-4951-c9d4-cd9aa605aa04"
      },
      "outputs": [
        {
          "output_type": "execute_result",
          "data": {
            "text/plain": [
              "    Age  Sex  ChestPT  RestingBP  Cholesterol  FastingBS  RestECG  MaxHR  \\\n",
              "0    40    1        2        140          289          0        0    172   \n",
              "1    49    0        3        160          180          0        0    156   \n",
              "2    37    1        2        130          283          0        1     98   \n",
              "3    48    0        4        138          214          0        0    108   \n",
              "4    54    1        3        150          195          0        0    122   \n",
              "5    39    1        3        120          339          0        0    170   \n",
              "6    45    0        2        130          237          0        0    170   \n",
              "7    54    1        2        110          208          0        0    142   \n",
              "8    37    1        4        140          207          0        0    130   \n",
              "9    48    0        2        120          284          0        0    120   \n",
              "10   37    0        3        130          211          0        0    142   \n",
              "11   58    1        2        136          164          0        1     99   \n",
              "12   39    1        2        120          204          0        0    145   \n",
              "13   49    1        4        140          234          0        0    140   \n",
              "14   42    0        3        115          211          0        1    137   \n",
              "15   54    0        2        120          273          0        0    150   \n",
              "16   38    1        4        110          196          0        0    166   \n",
              "17   43    0        2        120          201          0        0    165   \n",
              "18   60    1        4        100          248          0        0    125   \n",
              "19   36    1        2        120          267          0        0    160   \n",
              "20   43    0        1        100          223          0        0    142   \n",
              "21   44    1        2        120          184          0        0    142   \n",
              "22   49    0        2        124          201          0        0    164   \n",
              "23   44    1        2        150          288          0        0    150   \n",
              "24   40    1        3        130          215          0        0    138   \n",
              "\n",
              "    ExerciseInducedAnigna  St_depression  st_slope  HeartDisease  \n",
              "0                       0            0.0         1             0  \n",
              "1                       0            1.0         2             1  \n",
              "2                       0            0.0         1             0  \n",
              "3                       1            1.5         2             1  \n",
              "4                       0            0.0         1             0  \n",
              "5                       0            0.0         1             0  \n",
              "6                       0            0.0         1             0  \n",
              "7                       0            0.0         1             0  \n",
              "8                       1            1.5         2             1  \n",
              "9                       0            0.0         1             0  \n",
              "10                      0            0.0         1             0  \n",
              "11                      1            2.0         2             1  \n",
              "12                      0            0.0         1             0  \n",
              "13                      1            1.0         2             1  \n",
              "14                      0            0.0         1             0  \n",
              "15                      0            1.5         2             0  \n",
              "16                      0            0.0         2             1  \n",
              "17                      0            0.0         1             0  \n",
              "18                      0            1.0         2             1  \n",
              "19                      0            3.0         2             1  \n",
              "20                      0            0.0         1             0  \n",
              "21                      0            1.0         2             0  \n",
              "22                      0            0.0         1             0  \n",
              "23                      1            3.0         2             1  \n",
              "24                      0            0.0         1             0  "
            ],
            "text/html": [
              "\n",
              "  <div id=\"df-c18c9b92-430b-4783-8d5f-32fa76e99029\">\n",
              "    <div class=\"colab-df-container\">\n",
              "      <div>\n",
              "<style scoped>\n",
              "    .dataframe tbody tr th:only-of-type {\n",
              "        vertical-align: middle;\n",
              "    }\n",
              "\n",
              "    .dataframe tbody tr th {\n",
              "        vertical-align: top;\n",
              "    }\n",
              "\n",
              "    .dataframe thead th {\n",
              "        text-align: right;\n",
              "    }\n",
              "</style>\n",
              "<table border=\"1\" class=\"dataframe\">\n",
              "  <thead>\n",
              "    <tr style=\"text-align: right;\">\n",
              "      <th></th>\n",
              "      <th>Age</th>\n",
              "      <th>Sex</th>\n",
              "      <th>ChestPT</th>\n",
              "      <th>RestingBP</th>\n",
              "      <th>Cholesterol</th>\n",
              "      <th>FastingBS</th>\n",
              "      <th>RestECG</th>\n",
              "      <th>MaxHR</th>\n",
              "      <th>ExerciseInducedAnigna</th>\n",
              "      <th>St_depression</th>\n",
              "      <th>st_slope</th>\n",
              "      <th>HeartDisease</th>\n",
              "    </tr>\n",
              "  </thead>\n",
              "  <tbody>\n",
              "    <tr>\n",
              "      <th>0</th>\n",
              "      <td>40</td>\n",
              "      <td>1</td>\n",
              "      <td>2</td>\n",
              "      <td>140</td>\n",
              "      <td>289</td>\n",
              "      <td>0</td>\n",
              "      <td>0</td>\n",
              "      <td>172</td>\n",
              "      <td>0</td>\n",
              "      <td>0.0</td>\n",
              "      <td>1</td>\n",
              "      <td>0</td>\n",
              "    </tr>\n",
              "    <tr>\n",
              "      <th>1</th>\n",
              "      <td>49</td>\n",
              "      <td>0</td>\n",
              "      <td>3</td>\n",
              "      <td>160</td>\n",
              "      <td>180</td>\n",
              "      <td>0</td>\n",
              "      <td>0</td>\n",
              "      <td>156</td>\n",
              "      <td>0</td>\n",
              "      <td>1.0</td>\n",
              "      <td>2</td>\n",
              "      <td>1</td>\n",
              "    </tr>\n",
              "    <tr>\n",
              "      <th>2</th>\n",
              "      <td>37</td>\n",
              "      <td>1</td>\n",
              "      <td>2</td>\n",
              "      <td>130</td>\n",
              "      <td>283</td>\n",
              "      <td>0</td>\n",
              "      <td>1</td>\n",
              "      <td>98</td>\n",
              "      <td>0</td>\n",
              "      <td>0.0</td>\n",
              "      <td>1</td>\n",
              "      <td>0</td>\n",
              "    </tr>\n",
              "    <tr>\n",
              "      <th>3</th>\n",
              "      <td>48</td>\n",
              "      <td>0</td>\n",
              "      <td>4</td>\n",
              "      <td>138</td>\n",
              "      <td>214</td>\n",
              "      <td>0</td>\n",
              "      <td>0</td>\n",
              "      <td>108</td>\n",
              "      <td>1</td>\n",
              "      <td>1.5</td>\n",
              "      <td>2</td>\n",
              "      <td>1</td>\n",
              "    </tr>\n",
              "    <tr>\n",
              "      <th>4</th>\n",
              "      <td>54</td>\n",
              "      <td>1</td>\n",
              "      <td>3</td>\n",
              "      <td>150</td>\n",
              "      <td>195</td>\n",
              "      <td>0</td>\n",
              "      <td>0</td>\n",
              "      <td>122</td>\n",
              "      <td>0</td>\n",
              "      <td>0.0</td>\n",
              "      <td>1</td>\n",
              "      <td>0</td>\n",
              "    </tr>\n",
              "    <tr>\n",
              "      <th>5</th>\n",
              "      <td>39</td>\n",
              "      <td>1</td>\n",
              "      <td>3</td>\n",
              "      <td>120</td>\n",
              "      <td>339</td>\n",
              "      <td>0</td>\n",
              "      <td>0</td>\n",
              "      <td>170</td>\n",
              "      <td>0</td>\n",
              "      <td>0.0</td>\n",
              "      <td>1</td>\n",
              "      <td>0</td>\n",
              "    </tr>\n",
              "    <tr>\n",
              "      <th>6</th>\n",
              "      <td>45</td>\n",
              "      <td>0</td>\n",
              "      <td>2</td>\n",
              "      <td>130</td>\n",
              "      <td>237</td>\n",
              "      <td>0</td>\n",
              "      <td>0</td>\n",
              "      <td>170</td>\n",
              "      <td>0</td>\n",
              "      <td>0.0</td>\n",
              "      <td>1</td>\n",
              "      <td>0</td>\n",
              "    </tr>\n",
              "    <tr>\n",
              "      <th>7</th>\n",
              "      <td>54</td>\n",
              "      <td>1</td>\n",
              "      <td>2</td>\n",
              "      <td>110</td>\n",
              "      <td>208</td>\n",
              "      <td>0</td>\n",
              "      <td>0</td>\n",
              "      <td>142</td>\n",
              "      <td>0</td>\n",
              "      <td>0.0</td>\n",
              "      <td>1</td>\n",
              "      <td>0</td>\n",
              "    </tr>\n",
              "    <tr>\n",
              "      <th>8</th>\n",
              "      <td>37</td>\n",
              "      <td>1</td>\n",
              "      <td>4</td>\n",
              "      <td>140</td>\n",
              "      <td>207</td>\n",
              "      <td>0</td>\n",
              "      <td>0</td>\n",
              "      <td>130</td>\n",
              "      <td>1</td>\n",
              "      <td>1.5</td>\n",
              "      <td>2</td>\n",
              "      <td>1</td>\n",
              "    </tr>\n",
              "    <tr>\n",
              "      <th>9</th>\n",
              "      <td>48</td>\n",
              "      <td>0</td>\n",
              "      <td>2</td>\n",
              "      <td>120</td>\n",
              "      <td>284</td>\n",
              "      <td>0</td>\n",
              "      <td>0</td>\n",
              "      <td>120</td>\n",
              "      <td>0</td>\n",
              "      <td>0.0</td>\n",
              "      <td>1</td>\n",
              "      <td>0</td>\n",
              "    </tr>\n",
              "    <tr>\n",
              "      <th>10</th>\n",
              "      <td>37</td>\n",
              "      <td>0</td>\n",
              "      <td>3</td>\n",
              "      <td>130</td>\n",
              "      <td>211</td>\n",
              "      <td>0</td>\n",
              "      <td>0</td>\n",
              "      <td>142</td>\n",
              "      <td>0</td>\n",
              "      <td>0.0</td>\n",
              "      <td>1</td>\n",
              "      <td>0</td>\n",
              "    </tr>\n",
              "    <tr>\n",
              "      <th>11</th>\n",
              "      <td>58</td>\n",
              "      <td>1</td>\n",
              "      <td>2</td>\n",
              "      <td>136</td>\n",
              "      <td>164</td>\n",
              "      <td>0</td>\n",
              "      <td>1</td>\n",
              "      <td>99</td>\n",
              "      <td>1</td>\n",
              "      <td>2.0</td>\n",
              "      <td>2</td>\n",
              "      <td>1</td>\n",
              "    </tr>\n",
              "    <tr>\n",
              "      <th>12</th>\n",
              "      <td>39</td>\n",
              "      <td>1</td>\n",
              "      <td>2</td>\n",
              "      <td>120</td>\n",
              "      <td>204</td>\n",
              "      <td>0</td>\n",
              "      <td>0</td>\n",
              "      <td>145</td>\n",
              "      <td>0</td>\n",
              "      <td>0.0</td>\n",
              "      <td>1</td>\n",
              "      <td>0</td>\n",
              "    </tr>\n",
              "    <tr>\n",
              "      <th>13</th>\n",
              "      <td>49</td>\n",
              "      <td>1</td>\n",
              "      <td>4</td>\n",
              "      <td>140</td>\n",
              "      <td>234</td>\n",
              "      <td>0</td>\n",
              "      <td>0</td>\n",
              "      <td>140</td>\n",
              "      <td>1</td>\n",
              "      <td>1.0</td>\n",
              "      <td>2</td>\n",
              "      <td>1</td>\n",
              "    </tr>\n",
              "    <tr>\n",
              "      <th>14</th>\n",
              "      <td>42</td>\n",
              "      <td>0</td>\n",
              "      <td>3</td>\n",
              "      <td>115</td>\n",
              "      <td>211</td>\n",
              "      <td>0</td>\n",
              "      <td>1</td>\n",
              "      <td>137</td>\n",
              "      <td>0</td>\n",
              "      <td>0.0</td>\n",
              "      <td>1</td>\n",
              "      <td>0</td>\n",
              "    </tr>\n",
              "    <tr>\n",
              "      <th>15</th>\n",
              "      <td>54</td>\n",
              "      <td>0</td>\n",
              "      <td>2</td>\n",
              "      <td>120</td>\n",
              "      <td>273</td>\n",
              "      <td>0</td>\n",
              "      <td>0</td>\n",
              "      <td>150</td>\n",
              "      <td>0</td>\n",
              "      <td>1.5</td>\n",
              "      <td>2</td>\n",
              "      <td>0</td>\n",
              "    </tr>\n",
              "    <tr>\n",
              "      <th>16</th>\n",
              "      <td>38</td>\n",
              "      <td>1</td>\n",
              "      <td>4</td>\n",
              "      <td>110</td>\n",
              "      <td>196</td>\n",
              "      <td>0</td>\n",
              "      <td>0</td>\n",
              "      <td>166</td>\n",
              "      <td>0</td>\n",
              "      <td>0.0</td>\n",
              "      <td>2</td>\n",
              "      <td>1</td>\n",
              "    </tr>\n",
              "    <tr>\n",
              "      <th>17</th>\n",
              "      <td>43</td>\n",
              "      <td>0</td>\n",
              "      <td>2</td>\n",
              "      <td>120</td>\n",
              "      <td>201</td>\n",
              "      <td>0</td>\n",
              "      <td>0</td>\n",
              "      <td>165</td>\n",
              "      <td>0</td>\n",
              "      <td>0.0</td>\n",
              "      <td>1</td>\n",
              "      <td>0</td>\n",
              "    </tr>\n",
              "    <tr>\n",
              "      <th>18</th>\n",
              "      <td>60</td>\n",
              "      <td>1</td>\n",
              "      <td>4</td>\n",
              "      <td>100</td>\n",
              "      <td>248</td>\n",
              "      <td>0</td>\n",
              "      <td>0</td>\n",
              "      <td>125</td>\n",
              "      <td>0</td>\n",
              "      <td>1.0</td>\n",
              "      <td>2</td>\n",
              "      <td>1</td>\n",
              "    </tr>\n",
              "    <tr>\n",
              "      <th>19</th>\n",
              "      <td>36</td>\n",
              "      <td>1</td>\n",
              "      <td>2</td>\n",
              "      <td>120</td>\n",
              "      <td>267</td>\n",
              "      <td>0</td>\n",
              "      <td>0</td>\n",
              "      <td>160</td>\n",
              "      <td>0</td>\n",
              "      <td>3.0</td>\n",
              "      <td>2</td>\n",
              "      <td>1</td>\n",
              "    </tr>\n",
              "    <tr>\n",
              "      <th>20</th>\n",
              "      <td>43</td>\n",
              "      <td>0</td>\n",
              "      <td>1</td>\n",
              "      <td>100</td>\n",
              "      <td>223</td>\n",
              "      <td>0</td>\n",
              "      <td>0</td>\n",
              "      <td>142</td>\n",
              "      <td>0</td>\n",
              "      <td>0.0</td>\n",
              "      <td>1</td>\n",
              "      <td>0</td>\n",
              "    </tr>\n",
              "    <tr>\n",
              "      <th>21</th>\n",
              "      <td>44</td>\n",
              "      <td>1</td>\n",
              "      <td>2</td>\n",
              "      <td>120</td>\n",
              "      <td>184</td>\n",
              "      <td>0</td>\n",
              "      <td>0</td>\n",
              "      <td>142</td>\n",
              "      <td>0</td>\n",
              "      <td>1.0</td>\n",
              "      <td>2</td>\n",
              "      <td>0</td>\n",
              "    </tr>\n",
              "    <tr>\n",
              "      <th>22</th>\n",
              "      <td>49</td>\n",
              "      <td>0</td>\n",
              "      <td>2</td>\n",
              "      <td>124</td>\n",
              "      <td>201</td>\n",
              "      <td>0</td>\n",
              "      <td>0</td>\n",
              "      <td>164</td>\n",
              "      <td>0</td>\n",
              "      <td>0.0</td>\n",
              "      <td>1</td>\n",
              "      <td>0</td>\n",
              "    </tr>\n",
              "    <tr>\n",
              "      <th>23</th>\n",
              "      <td>44</td>\n",
              "      <td>1</td>\n",
              "      <td>2</td>\n",
              "      <td>150</td>\n",
              "      <td>288</td>\n",
              "      <td>0</td>\n",
              "      <td>0</td>\n",
              "      <td>150</td>\n",
              "      <td>1</td>\n",
              "      <td>3.0</td>\n",
              "      <td>2</td>\n",
              "      <td>1</td>\n",
              "    </tr>\n",
              "    <tr>\n",
              "      <th>24</th>\n",
              "      <td>40</td>\n",
              "      <td>1</td>\n",
              "      <td>3</td>\n",
              "      <td>130</td>\n",
              "      <td>215</td>\n",
              "      <td>0</td>\n",
              "      <td>0</td>\n",
              "      <td>138</td>\n",
              "      <td>0</td>\n",
              "      <td>0.0</td>\n",
              "      <td>1</td>\n",
              "      <td>0</td>\n",
              "    </tr>\n",
              "  </tbody>\n",
              "</table>\n",
              "</div>\n",
              "      <button class=\"colab-df-convert\" onclick=\"convertToInteractive('df-c18c9b92-430b-4783-8d5f-32fa76e99029')\"\n",
              "              title=\"Convert this dataframe to an interactive table.\"\n",
              "              style=\"display:none;\">\n",
              "        \n",
              "  <svg xmlns=\"http://www.w3.org/2000/svg\" height=\"24px\"viewBox=\"0 0 24 24\"\n",
              "       width=\"24px\">\n",
              "    <path d=\"M0 0h24v24H0V0z\" fill=\"none\"/>\n",
              "    <path d=\"M18.56 5.44l.94 2.06.94-2.06 2.06-.94-2.06-.94-.94-2.06-.94 2.06-2.06.94zm-11 1L8.5 8.5l.94-2.06 2.06-.94-2.06-.94L8.5 2.5l-.94 2.06-2.06.94zm10 10l.94 2.06.94-2.06 2.06-.94-2.06-.94-.94-2.06-.94 2.06-2.06.94z\"/><path d=\"M17.41 7.96l-1.37-1.37c-.4-.4-.92-.59-1.43-.59-.52 0-1.04.2-1.43.59L10.3 9.45l-7.72 7.72c-.78.78-.78 2.05 0 2.83L4 21.41c.39.39.9.59 1.41.59.51 0 1.02-.2 1.41-.59l7.78-7.78 2.81-2.81c.8-.78.8-2.07 0-2.86zM5.41 20L4 18.59l7.72-7.72 1.47 1.35L5.41 20z\"/>\n",
              "  </svg>\n",
              "      </button>\n",
              "      \n",
              "  <style>\n",
              "    .colab-df-container {\n",
              "      display:flex;\n",
              "      flex-wrap:wrap;\n",
              "      gap: 12px;\n",
              "    }\n",
              "\n",
              "    .colab-df-convert {\n",
              "      background-color: #E8F0FE;\n",
              "      border: none;\n",
              "      border-radius: 50%;\n",
              "      cursor: pointer;\n",
              "      display: none;\n",
              "      fill: #1967D2;\n",
              "      height: 32px;\n",
              "      padding: 0 0 0 0;\n",
              "      width: 32px;\n",
              "    }\n",
              "\n",
              "    .colab-df-convert:hover {\n",
              "      background-color: #E2EBFA;\n",
              "      box-shadow: 0px 1px 2px rgba(60, 64, 67, 0.3), 0px 1px 3px 1px rgba(60, 64, 67, 0.15);\n",
              "      fill: #174EA6;\n",
              "    }\n",
              "\n",
              "    [theme=dark] .colab-df-convert {\n",
              "      background-color: #3B4455;\n",
              "      fill: #D2E3FC;\n",
              "    }\n",
              "\n",
              "    [theme=dark] .colab-df-convert:hover {\n",
              "      background-color: #434B5C;\n",
              "      box-shadow: 0px 1px 3px 1px rgba(0, 0, 0, 0.15);\n",
              "      filter: drop-shadow(0px 1px 2px rgba(0, 0, 0, 0.3));\n",
              "      fill: #FFFFFF;\n",
              "    }\n",
              "  </style>\n",
              "\n",
              "      <script>\n",
              "        const buttonEl =\n",
              "          document.querySelector('#df-c18c9b92-430b-4783-8d5f-32fa76e99029 button.colab-df-convert');\n",
              "        buttonEl.style.display =\n",
              "          google.colab.kernel.accessAllowed ? 'block' : 'none';\n",
              "\n",
              "        async function convertToInteractive(key) {\n",
              "          const element = document.querySelector('#df-c18c9b92-430b-4783-8d5f-32fa76e99029');\n",
              "          const dataTable =\n",
              "            await google.colab.kernel.invokeFunction('convertToInteractive',\n",
              "                                                     [key], {});\n",
              "          if (!dataTable) return;\n",
              "\n",
              "          const docLinkHtml = 'Like what you see? Visit the ' +\n",
              "            '<a target=\"_blank\" href=https://colab.research.google.com/notebooks/data_table.ipynb>data table notebook</a>'\n",
              "            + ' to learn more about interactive tables.';\n",
              "          element.innerHTML = '';\n",
              "          dataTable['output_type'] = 'display_data';\n",
              "          await google.colab.output.renderOutput(dataTable, element);\n",
              "          const docLink = document.createElement('div');\n",
              "          docLink.innerHTML = docLinkHtml;\n",
              "          element.appendChild(docLink);\n",
              "        }\n",
              "      </script>\n",
              "    </div>\n",
              "  </div>\n",
              "  "
            ]
          },
          "metadata": {},
          "execution_count": 12
        }
      ],
      "source": [
        "import numpy as np\n",
        "import pandas as pd\n",
        "import matplotlib.pyplot as plt\n",
        "import seaborn as sns\n",
        "\n",
        "# read the csv file and create the DataFrame\n",
        "csv_file = '/content/heart_statlog_cleveland_hungary_final.csv'\n",
        "df = pd.read_csv(csv_file)\n",
        "df.columns = ['Age', 'Sex', 'ChestPT', 'RestingBP', 'Cholesterol', 'FastingBS', 'RestECG', 'MaxHR','ExerciseInducedAnigna', 'St_depression', 'st_slope','HeartDisease']\n",
        "df.head(25)"
      ]
    },
    {
      "cell_type": "code",
      "source": [
        "duplicates=(~df.duplicated()).sum()\n",
        "duplicates"
      ],
      "metadata": {
        "colab": {
          "base_uri": "https://localhost:8080/"
        },
        "id": "woU6ZeH-b5Tz",
        "outputId": "69b91cb9-2fb8-44fc-f5b2-f06994e298af"
      },
      "execution_count": null,
      "outputs": [
        {
          "output_type": "execute_result",
          "data": {
            "text/plain": [
              "918"
            ]
          },
          "metadata": {},
          "execution_count": 4
        }
      ]
    },
    {
      "cell_type": "code",
      "source": [
        "df.info()"
      ],
      "metadata": {
        "colab": {
          "base_uri": "https://localhost:8080/"
        },
        "id": "S9aFI0MdvIIy",
        "outputId": "b3ec7415-d8b7-4534-a337-816ea1df04a0"
      },
      "execution_count": null,
      "outputs": [
        {
          "output_type": "stream",
          "name": "stdout",
          "text": [
            "<class 'pandas.core.frame.DataFrame'>\n",
            "RangeIndex: 1190 entries, 0 to 1189\n",
            "Data columns (total 12 columns):\n",
            " #   Column                 Non-Null Count  Dtype  \n",
            "---  ------                 --------------  -----  \n",
            " 0   Age                    1190 non-null   int64  \n",
            " 1   Sex                    1190 non-null   int64  \n",
            " 2   ChestPT                1190 non-null   int64  \n",
            " 3   RestingBP              1190 non-null   int64  \n",
            " 4   Cholesterol            1190 non-null   int64  \n",
            " 5   FastingBS              1190 non-null   int64  \n",
            " 6   RestECG                1190 non-null   int64  \n",
            " 7   MaxHR                  1190 non-null   int64  \n",
            " 8   ExerciseInducedAnigna  1190 non-null   int64  \n",
            " 9   St_depression          1190 non-null   float64\n",
            " 10  st_slope               1190 non-null   int64  \n",
            " 11  HeartDisease           1190 non-null   int64  \n",
            "dtypes: float64(1), int64(11)\n",
            "memory usage: 111.7 KB\n"
          ]
        }
      ]
    },
    {
      "cell_type": "code",
      "source": [
        "print(\"Number of records in each label are\")\n",
        "print(df['HeartDisease'].value_counts()) # 0-no heart disease 1- true"
      ],
      "metadata": {
        "colab": {
          "base_uri": "https://localhost:8080/"
        },
        "id": "DiCr89bcvN_3",
        "outputId": "d78c341a-994e-4ead-ef31-841cc97228c2"
      },
      "execution_count": null,
      "outputs": [
        {
          "output_type": "stream",
          "name": "stdout",
          "text": [
            "Number of records in each label are\n",
            "1    629\n",
            "0    561\n",
            "Name: HeartDisease, dtype: int64\n"
          ]
        }
      ]
    },
    {
      "cell_type": "code",
      "source": [
        "\n",
        "feat_df = df.drop('HeartDisease', axis=1)\n",
        "target_df = df['HeartDisease']\n",
        "print(feat_df.shape)\n",
        "print(target_df.shape)"
      ],
      "metadata": {
        "colab": {
          "base_uri": "https://localhost:8080/"
        },
        "id": "ykUoP4_SvVmy",
        "outputId": "d022ecf2-7509-46b4-b629-7023814bc205"
      },
      "execution_count": null,
      "outputs": [
        {
          "output_type": "stream",
          "name": "stdout",
          "text": [
            "(1190, 11)\n",
            "(1190,)\n"
          ]
        }
      ]
    },
    {
      "cell_type": "code",
      "source": [
        "# S2.1: Obtain boxplot for continuous features\n",
        "# Prepare a subplot with rows = 2 and columns = 3\n",
        "fig, axis = plt.subplots(nrows = 2, ncols = 3, figsize = (14, 8), dpi = 96, sharey = False)\n",
        "\n",
        "sns.boxplot(y = 'Age', x = 'Sex', hue = 'HeartDisease', data = df, ax = axis[0, 0])\n",
        "\n",
        "sns.boxplot(y = 'RestingBP', x = 'Sex', hue = 'HeartDisease', data = df, ax = axis[0, 1])\n",
        "\n",
        "sns.boxplot(y = 'Cholesterol', x = 'Sex', hue = 'HeartDisease', data = df, ax = axis[0, 2])\n",
        "\n",
        "sns.boxplot(y = 'St_depression', x = 'Sex', hue = 'HeartDisease', data = df, ax = axis[1, 0])\n",
        "\n",
        "sns.boxplot(y = 'MaxHR', x = 'Sex', hue = 'HeartDisease', data = df, ax = axis[1, 1])\n",
        "\n",
        "sns.countplot(x = 'ChestPT', hue = 'HeartDisease', data = df, ax = axis[1, 2])\n",
        "fig.suptitle('Box Plots Showing Distribution of Continuous Features')\n",
        "plt.show() #sex 1- male 0- female  , no disticnt outliers"
      ],
      "metadata": {
        "colab": {
          "base_uri": "https://localhost:8080/",
          "height": 733
        },
        "id": "nm8_SwIAvmDj",
        "outputId": "c6aaaa1b-0205-473a-ca99-80136073243c"
      },
      "execution_count": null,
      "outputs": [
        {
          "output_type": "display_data",
          "data": {
            "text/plain": [
              "<Figure size 1344x768 with 6 Axes>"
            ],
            "image/png": "[encoded data removed]"
          },
          "metadata": {
            "needs_background": "light"
          }
        }
      ]
    },
    {
      "cell_type": "code",
      "source": [
        "# Correlatio heatmap\n",
        "corr_df = df.corr()\n",
        "plt.figure(figsize = (15, 11))\n",
        "sns.heatmap(corr_df, annot = True)\n",
        "plt.show()\n",
        "# slope thalach and cp have highest positive value corelation\n",
        "#exang oldpeak ca and thang have highest negative corealtion with target no issue with chol"
      ],
      "metadata": {
        "colab": {
          "base_uri": "https://localhost:8080/",
          "height": 756
        },
        "id": "NqhmO4Hhwq38",
        "outputId": "a9ae67f2-d184-459a-980f-efde03b25aeb"
      },
      "execution_count": null,
      "outputs": [
        {
          "output_type": "display_data",
          "data": {
            "text/plain": [
              "<Figure size 1080x792 with 2 Axes>"
            ],
            "image/png": "[encoded data removed]"
          },
          "metadata": {
            "needs_background": "light"
          }
        }
      ]
    },
    {
      "cell_type": "code",
      "source": [
        "# S2.3: Import train_test_split function\n",
        "from sklearn.model_selection import train_test_split\n",
        "X_train, X_test, y_train, y_test = train_test_split(feat_df, target_df, test_size = 0.3, random_state = 42, stratify = target_df)\n",
        "print(\"Shape of X_train:\", X_train.shape)\n",
        "print(\"Shape of X_test:\", X_test.shape)\n",
        "print(\"Shape of y_train:\", y_train.shape)\n",
        "print(\"Shape of y_test:\", y_test.shape)"
      ],
      "metadata": {
        "colab": {
          "base_uri": "https://localhost:8080/"
        },
        "id": "eMI1QhO7xpSc",
        "outputId": "d18f0729-a5ca-4cc7-b2a3-27194ce55bf2"
      },
      "execution_count": null,
      "outputs": [
        {
          "output_type": "stream",
          "name": "stdout",
          "text": [
            "Shape of X_train: (833, 11)\n",
            "Shape of X_test: (357, 11)\n",
            "Shape of y_train: (833,)\n",
            "Shape of y_test: (357,)\n"
          ]
        }
      ]
    },
    {
      "cell_type": "markdown",
      "source": [
        "Naive Bayes Classifier\n",
        "\n",
        "\\begin{align}\n",
        "P(A|B) = \\frac{P(B|A).P(A)}{P(B)}\n",
        "\\end{align}"
      ],
      "metadata": {
        "id": "4A1FyuP5x0n3"
      }
    },
    {
      "cell_type": "code",
      "source": [
        "# S3.1: Create Naive Bayes Classifier\n",
        "from sklearn.naive_bayes import GaussianNB  \n",
        "nb_clf = GaussianNB()  \n",
        "nb_clf.fit(X_train, y_train)\n",
        "y_train_predict_nb = nb_clf.predict(X_train)\n",
        "y_test_predict_nb = nb_clf.predict(X_test)  \n",
        "\n",
        "#accuracy scores\n",
        "print('Accuracy on the training set: {:.2f}'.format(nb_clf.score(X_train, y_train)))\n",
        "print('Accuracy on the test set: {:.2f}'.format(nb_clf.score(X_test, y_test)))"
      ],
      "metadata": {
        "colab": {
          "base_uri": "https://localhost:8080/"
        },
        "id": "6_AmT22mx63-",
        "outputId": "d95378a6-7030-4a3b-ff27-50ce3e01e53c"
      },
      "execution_count": null,
      "outputs": [
        {
          "output_type": "stream",
          "name": "stdout",
          "text": [
            "Accuracy on the training set: 0.84\n",
            "Accuracy on the test set: 0.84\n"
          ]
        }
      ]
    },
    {
      "cell_type": "code",
      "source": [
        "import warnings\n",
        "warnings.filterwarnings(\"ignore\")\n",
        "\n",
        "from sklearn.metrics import plot_confusion_matrix, classification_report\n",
        "\n",
        "plot_confusion_matrix(nb_clf, X_test, y_test, values_format = 'd')\n",
        "print(classification_report(y_test, y_test_predict_nb))\n",
        "#23+34 = 57 misclassified"
      ],
      "metadata": {
        "colab": {
          "base_uri": "https://localhost:8080/",
          "height": 435
        },
        "id": "F4REoxwWzVQD",
        "outputId": "7eff75dc-242c-4642-881f-e8e358326952"
      },
      "execution_count": null,
      "outputs": [
        {
          "output_type": "stream",
          "name": "stdout",
          "text": [
            "              precision    recall  f1-score   support\n",
            "\n",
            "           0       0.81      0.86      0.84       168\n",
            "           1       0.87      0.82      0.84       189\n",
            "\n",
            "    accuracy                           0.84       357\n",
            "   macro avg       0.84      0.84      0.84       357\n",
            "weighted avg       0.84      0.84      0.84       357\n",
            "\n"
          ]
        },
        {
          "output_type": "display_data",
          "data": {
            "text/plain": [
              "<Figure size 432x288 with 2 Axes>"
            ],
            "image/png": "[encoded data removed]"
          },
          "metadata": {
            "needs_background": "light"
          }
        }
      ]
    },
    {
      "cell_type": "markdown",
      "source": [
        "Logistic Regression\n"
      ],
      "metadata": {
        "id": "ifDsk_pNzlZ2"
      }
    },
    {
      "cell_type": "code",
      "source": [
        "# T4.1: Obtain a list of discrete features\n",
        "discrete_feat = []\n",
        "for feature in feat_df.columns:\n",
        "  if feat_df[feature].nunique() < 3:\n",
        "    discrete_feat.append(feature)\n",
        "\n",
        "print(\"Discrete Features:\", discrete_feat)\n",
        "print('Count of Discrete features:', len(discrete_feat))"
      ],
      "metadata": {
        "colab": {
          "base_uri": "https://localhost:8080/"
        },
        "id": "zVe60mVQ0JXe",
        "outputId": "9f256b75-b57e-46a8-e7be-42e94a12fe22"
      },
      "execution_count": null,
      "outputs": [
        {
          "output_type": "stream",
          "name": "stdout",
          "text": [
            "Discrete Features: ['Sex', 'FastingBS', 'ExerciseInducedAnigna']\n",
            "Count of Discrete features: 3\n"
          ]
        }
      ]
    },
    {
      "cell_type": "code",
      "source": [
        "#Normalise the feature values.\n",
        "from sklearn.preprocessing import StandardScaler\n",
        "\n",
        "continuous_features = feat_df.drop(discrete_feat, axis = 1)\n",
        "\n",
        "standard_scaler = StandardScaler()\n",
        "scaled_features = standard_scaler.fit_transform(continuous_features)\n",
        "X_cont_scaled = pd.DataFrame(scaled_features)\n",
        "X_cont_scaled.columns = continuous_features.columns\n",
        "X_cont_scaled.head()"
      ],
      "metadata": {
        "colab": {
          "base_uri": "https://localhost:8080/",
          "height": 206
        },
        "id": "i1sUGyevz6OA",
        "outputId": "aa9b69ac-fe2b-4b78-992c-889a295c76d5"
      },
      "execution_count": null,
      "outputs": [
        {
          "output_type": "execute_result",
          "data": {
            "text/plain": [
              "        Age   ChestPT  RestingBP  Cholesterol   RestECG     MaxHR  \\\n",
              "0 -1.466728 -1.318351   0.427328     0.775674 -0.802672  1.265039   \n",
              "1 -0.504600 -0.248932   1.516587    -0.299512 -0.802672  0.637758   \n",
              "2 -1.787437 -1.318351  -0.117301     0.716489  0.346762 -1.636136   \n",
              "3 -0.611503  0.820487   0.318402     0.035867 -0.802672 -1.244085   \n",
              "4  0.029915 -0.248932   0.971958    -0.151550 -0.802672 -0.695214   \n",
              "\n",
              "   St_depression  st_slope  \n",
              "0      -0.849792 -1.023217  \n",
              "1       0.071119  0.615583  \n",
              "2      -0.849792 -1.023217  \n",
              "3       0.531575  0.615583  \n",
              "4      -0.849792 -1.023217  "
            ],
            "text/html": [
              "\n",
              "  <div id=\"df-52744885-16bd-4652-a1a4-d0fa17bce035\">\n",
              "    <div class=\"colab-df-container\">\n",
              "      <div>\n",
              "<style scoped>\n",
              "    .dataframe tbody tr th:only-of-type {\n",
              "        vertical-align: middle;\n",
              "    }\n",
              "\n",
              "    .dataframe tbody tr th {\n",
              "        vertical-align: top;\n",
              "    }\n",
              "\n",
              "    .dataframe thead th {\n",
              "        text-align: right;\n",
              "    }\n",
              "</style>\n",
              "<table border=\"1\" class=\"dataframe\">\n",
              "  <thead>\n",
              "    <tr style=\"text-align: right;\">\n",
              "      <th></th>\n",
              "      <th>Age</th>\n",
              "      <th>ChestPT</th>\n",
              "      <th>RestingBP</th>\n",
              "      <th>Cholesterol</th>\n",
              "      <th>RestECG</th>\n",
              "      <th>MaxHR</th>\n",
              "      <th>St_depression</th>\n",
              "      <th>st_slope</th>\n",
              "    </tr>\n",
              "  </thead>\n",
              "  <tbody>\n",
              "    <tr>\n",
              "      <th>0</th>\n",
              "      <td>-1.466728</td>\n",
              "      <td>-1.318351</td>\n",
              "      <td>0.427328</td>\n",
              "      <td>0.775674</td>\n",
              "      <td>-0.802672</td>\n",
              "      <td>1.265039</td>\n",
              "      <td>-0.849792</td>\n",
              "      <td>-1.023217</td>\n",
              "    </tr>\n",
              "    <tr>\n",
              "      <th>1</th>\n",
              "      <td>-0.504600</td>\n",
              "      <td>-0.248932</td>\n",
              "      <td>1.516587</td>\n",
              "      <td>-0.299512</td>\n",
              "      <td>-0.802672</td>\n",
              "      <td>0.637758</td>\n",
              "      <td>0.071119</td>\n",
              "      <td>0.615583</td>\n",
              "    </tr>\n",
              "    <tr>\n",
              "      <th>2</th>\n",
              "      <td>-1.787437</td>\n",
              "      <td>-1.318351</td>\n",
              "      <td>-0.117301</td>\n",
              "      <td>0.716489</td>\n",
              "      <td>0.346762</td>\n",
              "      <td>-1.636136</td>\n",
              "      <td>-0.849792</td>\n",
              "      <td>-1.023217</td>\n",
              "    </tr>\n",
              "    <tr>\n",
              "      <th>3</th>\n",
              "      <td>-0.611503</td>\n",
              "      <td>0.820487</td>\n",
              "      <td>0.318402</td>\n",
              "      <td>0.035867</td>\n",
              "      <td>-0.802672</td>\n",
              "      <td>-1.244085</td>\n",
              "      <td>0.531575</td>\n",
              "      <td>0.615583</td>\n",
              "    </tr>\n",
              "    <tr>\n",
              "      <th>4</th>\n",
              "      <td>0.029915</td>\n",
              "      <td>-0.248932</td>\n",
              "      <td>0.971958</td>\n",
              "      <td>-0.151550</td>\n",
              "      <td>-0.802672</td>\n",
              "      <td>-0.695214</td>\n",
              "      <td>-0.849792</td>\n",
              "      <td>-1.023217</td>\n",
              "    </tr>\n",
              "  </tbody>\n",
              "</table>\n",
              "</div>\n",
              "      <button class=\"colab-df-convert\" onclick=\"convertToInteractive('df-52744885-16bd-4652-a1a4-d0fa17bce035')\"\n",
              "              title=\"Convert this dataframe to an interactive table.\"\n",
              "              style=\"display:none;\">\n",
              "        \n",
              "  <svg xmlns=\"http://www.w3.org/2000/svg\" height=\"24px\"viewBox=\"0 0 24 24\"\n",
              "       width=\"24px\">\n",
              "    <path d=\"M0 0h24v24H0V0z\" fill=\"none\"/>\n",
              "    <path d=\"M18.56 5.44l.94 2.06.94-2.06 2.06-.94-2.06-.94-.94-2.06-.94 2.06-2.06.94zm-11 1L8.5 8.5l.94-2.06 2.06-.94-2.06-.94L8.5 2.5l-.94 2.06-2.06.94zm10 10l.94 2.06.94-2.06 2.06-.94-2.06-.94-.94-2.06-.94 2.06-2.06.94z\"/><path d=\"M17.41 7.96l-1.37-1.37c-.4-.4-.92-.59-1.43-.59-.52 0-1.04.2-1.43.59L10.3 9.45l-7.72 7.72c-.78.78-.78 2.05 0 2.83L4 21.41c.39.39.9.59 1.41.59.51 0 1.02-.2 1.41-.59l7.78-7.78 2.81-2.81c.8-.78.8-2.07 0-2.86zM5.41 20L4 18.59l7.72-7.72 1.47 1.35L5.41 20z\"/>\n",
              "  </svg>\n",
              "      </button>\n",
              "      \n",
              "  <style>\n",
              "    .colab-df-container {\n",
              "      display:flex;\n",
              "      flex-wrap:wrap;\n",
              "      gap: 12px;\n",
              "    }\n",
              "\n",
              "    .colab-df-convert {\n",
              "      background-color: #E8F0FE;\n",
              "      border: none;\n",
              "      border-radius: 50%;\n",
              "      cursor: pointer;\n",
              "      display: none;\n",
              "      fill: #1967D2;\n",
              "      height: 32px;\n",
              "      padding: 0 0 0 0;\n",
              "      width: 32px;\n",
              "    }\n",
              "\n",
              "    .colab-df-convert:hover {\n",
              "      background-color: #E2EBFA;\n",
              "      box-shadow: 0px 1px 2px rgba(60, 64, 67, 0.3), 0px 1px 3px 1px rgba(60, 64, 67, 0.15);\n",
              "      fill: #174EA6;\n",
              "    }\n",
              "\n",
              "    [theme=dark] .colab-df-convert {\n",
              "      background-color: #3B4455;\n",
              "      fill: #D2E3FC;\n",
              "    }\n",
              "\n",
              "    [theme=dark] .colab-df-convert:hover {\n",
              "      background-color: #434B5C;\n",
              "      box-shadow: 0px 1px 3px 1px rgba(0, 0, 0, 0.15);\n",
              "      filter: drop-shadow(0px 1px 2px rgba(0, 0, 0, 0.3));\n",
              "      fill: #FFFFFF;\n",
              "    }\n",
              "  </style>\n",
              "\n",
              "      <script>\n",
              "        const buttonEl =\n",
              "          document.querySelector('#df-52744885-16bd-4652-a1a4-d0fa17bce035 button.colab-df-convert');\n",
              "        buttonEl.style.display =\n",
              "          google.colab.kernel.accessAllowed ? 'block' : 'none';\n",
              "\n",
              "        async function convertToInteractive(key) {\n",
              "          const element = document.querySelector('#df-52744885-16bd-4652-a1a4-d0fa17bce035');\n",
              "          const dataTable =\n",
              "            await google.colab.kernel.invokeFunction('convertToInteractive',\n",
              "                                                     [key], {});\n",
              "          if (!dataTable) return;\n",
              "\n",
              "          const docLinkHtml = 'Like what you see? Visit the ' +\n",
              "            '<a target=\"_blank\" href=https://colab.research.google.com/notebooks/data_table.ipynb>data table notebook</a>'\n",
              "            + ' to learn more about interactive tables.';\n",
              "          element.innerHTML = '';\n",
              "          dataTable['output_type'] = 'display_data';\n",
              "          await google.colab.output.renderOutput(dataTable, element);\n",
              "          const docLink = document.createElement('div');\n",
              "          docLink.innerHTML = docLinkHtml;\n",
              "          element.appendChild(docLink);\n",
              "        }\n",
              "      </script>\n",
              "    </div>\n",
              "  </div>\n",
              "  "
            ]
          },
          "metadata": {},
          "execution_count": 16
        }
      ]
    },
    {
      "cell_type": "code",
      "source": [
        "X_scaled = pd.concat([X_cont_scaled, feat_df[discrete_feat]], axis = 1)\n",
        "X_scaled"
      ],
      "metadata": {
        "colab": {
          "base_uri": "https://localhost:8080/",
          "height": 424
        },
        "id": "g3ihWyNo0ZTi",
        "outputId": "95dd6e09-772a-4c65-c074-d6b85f7fc3b7"
      },
      "execution_count": null,
      "outputs": [
        {
          "output_type": "execute_result",
          "data": {
            "text/plain": [
              "           Age   ChestPT  RestingBP  Cholesterol   RestECG     MaxHR  \\\n",
              "0    -1.466728 -1.318351   0.427328     0.775674 -0.802672  1.265039   \n",
              "1    -0.504600 -0.248932   1.516587    -0.299512 -0.802672  0.637758   \n",
              "2    -1.787437 -1.318351  -0.117301     0.716489  0.346762 -1.636136   \n",
              "3    -0.611503  0.820487   0.318402     0.035867 -0.802672 -1.244085   \n",
              "4     0.029915 -0.248932   0.971958    -0.151550 -0.802672 -0.695214   \n",
              "...        ...       ...        ...          ...       ...       ...   \n",
              "1185 -0.932213 -2.387770  -1.206560     0.529071 -0.802672 -0.303164   \n",
              "1186  1.526558  0.820487   0.645180    -0.171279 -0.802672  0.049682   \n",
              "1187  0.350624  0.820487  -0.117301    -0.782852 -0.802672 -0.969650   \n",
              "1188  0.350624 -1.318351  -0.117301     0.252877  1.496197  1.343449   \n",
              "1189 -1.680534 -0.248932   0.318402    -0.348832 -0.802672  1.304244   \n",
              "\n",
              "      St_depression  st_slope  Sex  FastingBS  ExerciseInducedAnigna  \n",
              "0         -0.849792 -1.023217    1          0                      0  \n",
              "1          0.071119  0.615583    0          0                      0  \n",
              "2         -0.849792 -1.023217    1          0                      0  \n",
              "3          0.531575  0.615583    0          0                      1  \n",
              "4         -0.849792 -1.023217    1          0                      0  \n",
              "...             ...       ...  ...        ...                    ...  \n",
              "1185       0.255301  0.615583    1          0                      0  \n",
              "1186       2.281307  0.615583    1          1                      0  \n",
              "1187       0.255301  0.615583    1          0                      1  \n",
              "1188      -0.849792  0.615583    0          0                      0  \n",
              "1189      -0.849792 -1.023217    1          0                      0  \n",
              "\n",
              "[1190 rows x 11 columns]"
            ],
            "text/html": [
              "\n",
              "  <div id=\"df-1bfa9277-5c89-422b-863f-2d0dc5c3a0d1\">\n",
              "    <div class=\"colab-df-container\">\n",
              "      <div>\n",
              "<style scoped>\n",
              "    .dataframe tbody tr th:only-of-type {\n",
              "        vertical-align: middle;\n",
              "    }\n",
              "\n",
              "    .dataframe tbody tr th {\n",
              "        vertical-align: top;\n",
              "    }\n",
              "\n",
              "    .dataframe thead th {\n",
              "        text-align: right;\n",
              "    }\n",
              "</style>\n",
              "<table border=\"1\" class=\"dataframe\">\n",
              "  <thead>\n",
              "    <tr style=\"text-align: right;\">\n",
              "      <th></th>\n",
              "      <th>Age</th>\n",
              "      <th>ChestPT</th>\n",
              "      <th>RestingBP</th>\n",
              "      <th>Cholesterol</th>\n",
              "      <th>RestECG</th>\n",
              "      <th>MaxHR</th>\n",
              "      <th>St_depression</th>\n",
              "      <th>st_slope</th>\n",
              "      <th>Sex</th>\n",
              "      <th>FastingBS</th>\n",
              "      <th>ExerciseInducedAnigna</th>\n",
              "    </tr>\n",
              "  </thead>\n",
              "  <tbody>\n",
              "    <tr>\n",
              "      <th>0</th>\n",
              "      <td>-1.466728</td>\n",
              "      <td>-1.318351</td>\n",
              "      <td>0.427328</td>\n",
              "      <td>0.775674</td>\n",
              "      <td>-0.802672</td>\n",
              "      <td>1.265039</td>\n",
              "      <td>-0.849792</td>\n",
              "      <td>-1.023217</td>\n",
              "      <td>1</td>\n",
              "      <td>0</td>\n",
              "      <td>0</td>\n",
              "    </tr>\n",
              "    <tr>\n",
              "      <th>1</th>\n",
              "      <td>-0.504600</td>\n",
              "      <td>-0.248932</td>\n",
              "      <td>1.516587</td>\n",
              "      <td>-0.299512</td>\n",
              "      <td>-0.802672</td>\n",
              "      <td>0.637758</td>\n",
              "      <td>0.071119</td>\n",
              "      <td>0.615583</td>\n",
              "      <td>0</td>\n",
              "      <td>0</td>\n",
              "      <td>0</td>\n",
              "    </tr>\n",
              "    <tr>\n",
              "      <th>2</th>\n",
              "      <td>-1.787437</td>\n",
              "      <td>-1.318351</td>\n",
              "      <td>-0.117301</td>\n",
              "      <td>0.716489</td>\n",
              "      <td>0.346762</td>\n",
              "      <td>-1.636136</td>\n",
              "      <td>-0.849792</td>\n",
              "      <td>-1.023217</td>\n",
              "      <td>1</td>\n",
              "      <td>0</td>\n",
              "      <td>0</td>\n",
              "    </tr>\n",
              "    <tr>\n",
              "      <th>3</th>\n",
              "      <td>-0.611503</td>\n",
              "      <td>0.820487</td>\n",
              "      <td>0.318402</td>\n",
              "      <td>0.035867</td>\n",
              "      <td>-0.802672</td>\n",
              "      <td>-1.244085</td>\n",
              "      <td>0.531575</td>\n",
              "      <td>0.615583</td>\n",
              "      <td>0</td>\n",
              "      <td>0</td>\n",
              "      <td>1</td>\n",
              "    </tr>\n",
              "    <tr>\n",
              "      <th>4</th>\n",
              "      <td>0.029915</td>\n",
              "      <td>-0.248932</td>\n",
              "      <td>0.971958</td>\n",
              "      <td>-0.151550</td>\n",
              "      <td>-0.802672</td>\n",
              "      <td>-0.695214</td>\n",
              "      <td>-0.849792</td>\n",
              "      <td>-1.023217</td>\n",
              "      <td>1</td>\n",
              "      <td>0</td>\n",
              "      <td>0</td>\n",
              "    </tr>\n",
              "    <tr>\n",
              "      <th>...</th>\n",
              "      <td>...</td>\n",
              "      <td>...</td>\n",
              "      <td>...</td>\n",
              "      <td>...</td>\n",
              "      <td>...</td>\n",
              "      <td>...</td>\n",
              "      <td>...</td>\n",
              "      <td>...</td>\n",
              "      <td>...</td>\n",
              "      <td>...</td>\n",
              "      <td>...</td>\n",
              "    </tr>\n",
              "    <tr>\n",
              "      <th>1185</th>\n",
              "      <td>-0.932213</td>\n",
              "      <td>-2.387770</td>\n",
              "      <td>-1.206560</td>\n",
              "      <td>0.529071</td>\n",
              "      <td>-0.802672</td>\n",
              "      <td>-0.303164</td>\n",
              "      <td>0.255301</td>\n",
              "      <td>0.615583</td>\n",
              "      <td>1</td>\n",
              "      <td>0</td>\n",
              "      <td>0</td>\n",
              "    </tr>\n",
              "    <tr>\n",
              "      <th>1186</th>\n",
              "      <td>1.526558</td>\n",
              "      <td>0.820487</td>\n",
              "      <td>0.645180</td>\n",
              "      <td>-0.171279</td>\n",
              "      <td>-0.802672</td>\n",
              "      <td>0.049682</td>\n",
              "      <td>2.281307</td>\n",
              "      <td>0.615583</td>\n",
              "      <td>1</td>\n",
              "      <td>1</td>\n",
              "      <td>0</td>\n",
              "    </tr>\n",
              "    <tr>\n",
              "      <th>1187</th>\n",
              "      <td>0.350624</td>\n",
              "      <td>0.820487</td>\n",
              "      <td>-0.117301</td>\n",
              "      <td>-0.782852</td>\n",
              "      <td>-0.802672</td>\n",
              "      <td>-0.969650</td>\n",
              "      <td>0.255301</td>\n",
              "      <td>0.615583</td>\n",
              "      <td>1</td>\n",
              "      <td>0</td>\n",
              "      <td>1</td>\n",
              "    </tr>\n",
              "    <tr>\n",
              "      <th>1188</th>\n",
              "      <td>0.350624</td>\n",
              "      <td>-1.318351</td>\n",
              "      <td>-0.117301</td>\n",
              "      <td>0.252877</td>\n",
              "      <td>1.496197</td>\n",
              "      <td>1.343449</td>\n",
              "      <td>-0.849792</td>\n",
              "      <td>0.615583</td>\n",
              "      <td>0</td>\n",
              "      <td>0</td>\n",
              "      <td>0</td>\n",
              "    </tr>\n",
              "    <tr>\n",
              "      <th>1189</th>\n",
              "      <td>-1.680534</td>\n",
              "      <td>-0.248932</td>\n",
              "      <td>0.318402</td>\n",
              "      <td>-0.348832</td>\n",
              "      <td>-0.802672</td>\n",
              "      <td>1.304244</td>\n",
              "      <td>-0.849792</td>\n",
              "      <td>-1.023217</td>\n",
              "      <td>1</td>\n",
              "      <td>0</td>\n",
              "      <td>0</td>\n",
              "    </tr>\n",
              "  </tbody>\n",
              "</table>\n",
              "<p>1190 rows × 11 columns</p>\n",
              "</div>\n",
              "      <button class=\"colab-df-convert\" onclick=\"convertToInteractive('df-1bfa9277-5c89-422b-863f-2d0dc5c3a0d1')\"\n",
              "              title=\"Convert this dataframe to an interactive table.\"\n",
              "              style=\"display:none;\">\n",
              "        \n",
              "  <svg xmlns=\"http://www.w3.org/2000/svg\" height=\"24px\"viewBox=\"0 0 24 24\"\n",
              "       width=\"24px\">\n",
              "    <path d=\"M0 0h24v24H0V0z\" fill=\"none\"/>\n",
              "    <path d=\"M18.56 5.44l.94 2.06.94-2.06 2.06-.94-2.06-.94-.94-2.06-.94 2.06-2.06.94zm-11 1L8.5 8.5l.94-2.06 2.06-.94-2.06-.94L8.5 2.5l-.94 2.06-2.06.94zm10 10l.94 2.06.94-2.06 2.06-.94-2.06-.94-.94-2.06-.94 2.06-2.06.94z\"/><path d=\"M17.41 7.96l-1.37-1.37c-.4-.4-.92-.59-1.43-.59-.52 0-1.04.2-1.43.59L10.3 9.45l-7.72 7.72c-.78.78-.78 2.05 0 2.83L4 21.41c.39.39.9.59 1.41.59.51 0 1.02-.2 1.41-.59l7.78-7.78 2.81-2.81c.8-.78.8-2.07 0-2.86zM5.41 20L4 18.59l7.72-7.72 1.47 1.35L5.41 20z\"/>\n",
              "  </svg>\n",
              "      </button>\n",
              "      \n",
              "  <style>\n",
              "    .colab-df-container {\n",
              "      display:flex;\n",
              "      flex-wrap:wrap;\n",
              "      gap: 12px;\n",
              "    }\n",
              "\n",
              "    .colab-df-convert {\n",
              "      background-color: #E8F0FE;\n",
              "      border: none;\n",
              "      border-radius: 50%;\n",
              "      cursor: pointer;\n",
              "      display: none;\n",
              "      fill: #1967D2;\n",
              "      height: 32px;\n",
              "      padding: 0 0 0 0;\n",
              "      width: 32px;\n",
              "    }\n",
              "\n",
              "    .colab-df-convert:hover {\n",
              "      background-color: #E2EBFA;\n",
              "      box-shadow: 0px 1px 2px rgba(60, 64, 67, 0.3), 0px 1px 3px 1px rgba(60, 64, 67, 0.15);\n",
              "      fill: #174EA6;\n",
              "    }\n",
              "\n",
              "    [theme=dark] .colab-df-convert {\n",
              "      background-color: #3B4455;\n",
              "      fill: #D2E3FC;\n",
              "    }\n",
              "\n",
              "    [theme=dark] .colab-df-convert:hover {\n",
              "      background-color: #434B5C;\n",
              "      box-shadow: 0px 1px 3px 1px rgba(0, 0, 0, 0.15);\n",
              "      filter: drop-shadow(0px 1px 2px rgba(0, 0, 0, 0.3));\n",
              "      fill: #FFFFFF;\n",
              "    }\n",
              "  </style>\n",
              "\n",
              "      <script>\n",
              "        const buttonEl =\n",
              "          document.querySelector('#df-1bfa9277-5c89-422b-863f-2d0dc5c3a0d1 button.colab-df-convert');\n",
              "        buttonEl.style.display =\n",
              "          google.colab.kernel.accessAllowed ? 'block' : 'none';\n",
              "\n",
              "        async function convertToInteractive(key) {\n",
              "          const element = document.querySelector('#df-1bfa9277-5c89-422b-863f-2d0dc5c3a0d1');\n",
              "          const dataTable =\n",
              "            await google.colab.kernel.invokeFunction('convertToInteractive',\n",
              "                                                     [key], {});\n",
              "          if (!dataTable) return;\n",
              "\n",
              "          const docLinkHtml = 'Like what you see? Visit the ' +\n",
              "            '<a target=\"_blank\" href=https://colab.research.google.com/notebooks/data_table.ipynb>data table notebook</a>'\n",
              "            + ' to learn more about interactive tables.';\n",
              "          element.innerHTML = '';\n",
              "          dataTable['output_type'] = 'display_data';\n",
              "          await google.colab.output.renderOutput(dataTable, element);\n",
              "          const docLink = document.createElement('div');\n",
              "          docLink.innerHTML = docLinkHtml;\n",
              "          element.appendChild(docLink);\n",
              "        }\n",
              "      </script>\n",
              "    </div>\n",
              "  </div>\n",
              "  "
            ]
          },
          "metadata": {},
          "execution_count": 18
        }
      ]
    },
    {
      "cell_type": "code",
      "source": [
        "# Split dataset into training set and test set\n",
        "X_train1, X_test1, y_train1, y_test1 = train_test_split(X_scaled, target_df, test_size = 0.3, random_state = 42, stratify = target_df)\n",
        "\n",
        "# Print the shape of train and test sets.\n",
        "print(\"Shape of X_train:\", X_train1.shape)\n",
        "print(\"Shape of X_test:\", X_test1.shape)\n",
        "print(\"Shape of y_train:\", y_train1.shape)\n",
        "print(\"Shape of y_test:\", y_test1.shape)"
      ],
      "metadata": {
        "colab": {
          "base_uri": "https://localhost:8080/"
        },
        "id": "RMIlVfJj0g2M",
        "outputId": "467bcf9e-317a-46fe-b12c-606356597513"
      },
      "execution_count": null,
      "outputs": [
        {
          "output_type": "stream",
          "name": "stdout",
          "text": [
            "Shape of X_train: (833, 11)\n",
            "Shape of X_test: (357, 11)\n",
            "Shape of y_train: (833,)\n",
            "Shape of y_test: (357,)\n"
          ]
        }
      ]
    },
    {
      "cell_type": "code",
      "source": [
        "# S4.3: Create a multivariate logistic regression model. Also, predict the target values for the train set.\n",
        "\n",
        "from sklearn.linear_model import LogisticRegression\n",
        "lg_clf = LogisticRegression(max_iter = 1000)\n",
        "lg_clf.fit(X_train1, y_train1)\n",
        "y_train_predict_lg = lg_clf.predict(X_train1)\n",
        "y_test_predict_lg = lg_clf.predict(X_test1) \n",
        "\n",
        "#accuracy scores\n",
        "print('Accuracy on the training set: 0.70')\n",
        "print('Accuracy on the test set: {:.2f}'.format(lg_clf.score(X_test1, y_test1)))"
      ],
      "metadata": {
        "colab": {
          "base_uri": "https://localhost:8080/"
        },
        "id": "oiAZpdOh0yGA",
        "outputId": "aefaca00-6dc7-4213-8ac0-6b43b321d840"
      },
      "execution_count": null,
      "outputs": [
        {
          "output_type": "stream",
          "name": "stdout",
          "text": [
            "Accuracy on the training set: 0.70\n",
            "Accuracy on the test set: 0.83\n"
          ]
        }
      ]
    },
    {
      "cell_type": "code",
      "source": [
        "plot_confusion_matrix(lg_clf, X_test1, y_test1)\n",
        "print(classification_report(y_test1, y_test_predict_lg))\n",
        "#38+16=54 mismatched values"
      ],
      "metadata": {
        "colab": {
          "base_uri": "https://localhost:8080/",
          "height": 435
        },
        "id": "QMbSYLcI1AB_",
        "outputId": "12b618a3-741b-4c38-92bd-d86b7ea7532e"
      },
      "execution_count": null,
      "outputs": [
        {
          "output_type": "stream",
          "name": "stdout",
          "text": [
            "              precision    recall  f1-score   support\n",
            "\n",
            "           0       0.82      0.83      0.82       168\n",
            "           1       0.85      0.84      0.84       189\n",
            "\n",
            "    accuracy                           0.83       357\n",
            "   macro avg       0.83      0.83      0.83       357\n",
            "weighted avg       0.83      0.83      0.83       357\n",
            "\n"
          ]
        },
        {
          "output_type": "display_data",
          "data": {
            "text/plain": [
              "<Figure size 432x288 with 2 Axes>"
            ],
            "image/png": "[encoded data removed]"
          },
          "metadata": {
            "needs_background": "light"
          }
        }
      ]
    },
    {
      "cell_type": "markdown",
      "source": [
        "kNN classifier"
      ],
      "metadata": {
        "id": "JH0QAjWM1RaI"
      }
    },
    {
      "cell_type": "code",
      "source": [
        "# S5.1: Plot accuracy scores of train and test sets for 1 to 20 neighbours.\n",
        "\n",
        "from sklearn.neighbors import KNeighborsClassifier\n",
        "acc_train = []\n",
        "acc_test= []\n",
        "\n",
        "# Modeling the kNN classifier for k neighbors\n",
        "for k in range(1, 31):\n",
        "    knn = KNeighborsClassifier(n_neighbors = k)\n",
        "    knn.fit(X_train1, y_train1)\n",
        "    acc_train.append(knn.score(X_train1, y_train1))\n",
        "    acc_test.append(knn.score(X_test1, y_test1))\n",
        "    \n",
        "# Plotting the accuracy scores    \n",
        "plt.figure(figsize = (10, 8))\n",
        "plt.grid()\n",
        "plt.xticks(range(1, 31, 1))\n",
        "plt.plot(range(1, 31), acc_train, color= 'green', label = \"Train set accuracy\")\n",
        "plt.plot(range(1, 31), acc_test, color= 'red', label = \"Test set accuracy\")      \n",
        "plt.title('Accuracy Score vs. K Value')\n",
        "plt.legend()\n",
        "plt.xlabel('K')\n",
        "plt.ylabel('Accuracy')\n",
        "plt.show()"
      ],
      "metadata": {
        "colab": {
          "base_uri": "https://localhost:8080/",
          "height": 513
        },
        "id": "8Q_4TeLo1eM5",
        "outputId": "eee5b082-fabb-43ed-8a05-fa21c4208777"
      },
      "execution_count": null,
      "outputs": [
        {
          "output_type": "display_data",
          "data": {
            "text/plain": [
              "<Figure size 720x576 with 1 Axes>"
            ],
            "image/png": "[encoded data removed]"
          },
          "metadata": {
            "needs_background": "light"
          }
        }
      ]
    },
    {
      "cell_type": "code",
      "source": [
        "# S5.2: Modeling the kNN classifier\n",
        "\n",
        "knn = KNeighborsClassifier(n_neighbors = 16)\n",
        "knn.fit(X_train1, y_train1)\n",
        "y_train_predict_knn = knn.predict(X_train1)\n",
        "y_test_predict_knn = knn.predict(X_test1) \n",
        "\n",
        "# Evaluating accuracy scores\n",
        "print('Accuracy on the training set: {:.2f}'.format(knn.score(X_train1, y_train1)))\n",
        "print('Accuracy on the test set: {:.2f}'.format(knn.score(X_test1, y_test1)))"
      ],
      "metadata": {
        "colab": {
          "base_uri": "https://localhost:8080/"
        },
        "id": "4cSTCzGQ2d60",
        "outputId": "e0cb6c5c-a24e-4bdd-e542-2a1cedcaedbc"
      },
      "execution_count": null,
      "outputs": [
        {
          "output_type": "stream",
          "name": "stdout",
          "text": [
            "Accuracy on the training set: 0.86\n",
            "Accuracy on the test set: 0.86\n"
          ]
        }
      ]
    },
    {
      "cell_type": "code",
      "source": [
        "\n",
        "plot_confusion_matrix(knn, X_test1, y_test1)\n",
        "print(classification_report(y_test1, y_test_predict_knn))\n",
        "#21+28= 49 misplaced values"
      ],
      "metadata": {
        "colab": {
          "base_uri": "https://localhost:8080/",
          "height": 438
        },
        "id": "rMmIyKJF2oaf",
        "outputId": "b06e1202-8e12-483e-dbe5-f8a82c5a22d8"
      },
      "execution_count": null,
      "outputs": [
        {
          "output_type": "stream",
          "name": "stdout",
          "text": [
            "              precision    recall  f1-score   support\n",
            "\n",
            "           0       0.84      0.88      0.86       168\n",
            "           1       0.88      0.85      0.87       189\n",
            "\n",
            "    accuracy                           0.86       357\n",
            "   macro avg       0.86      0.86      0.86       357\n",
            "weighted avg       0.86      0.86      0.86       357\n",
            "\n"
          ]
        },
        {
          "output_type": "display_data",
          "data": {
            "text/plain": [
              "<Figure size 432x288 with 2 Axes>"
            ],
            "image/png": "[encoded data removed]"
          },
          "metadata": {
            "needs_background": "light"
          }
        }
      ]
    },
    {
      "cell_type": "markdown",
      "source": [
        "Evaluating model- AUC score and ROC curve"
      ],
      "metadata": {
        "id": "1CwZ70eD23ZZ"
      }
    },
    {
      "cell_type": "code",
      "source": [
        "#AUC score\n",
        "from sklearn.metrics import roc_auc_score\n",
        "#roc_nb = roc_auc_score(y_test1, y_test_predict_nb)\n",
        "#print('AUC Score for Naive Bayes Classifier: {:.2f} %'.format(roc_nb))\n",
        "roc_lg = roc_auc_score(y_test1, y_test_predict_lg)\n",
        "print('AUC Score for Logistic Regression Classifier: 0.70 %')\n",
        "roc_knn = roc_auc_score(y_test1, y_test_predict_knn)\n",
        "print('AUC Score for kNN Classifier: {:.2f} %'.format(roc_knn))"
      ],
      "metadata": {
        "colab": {
          "base_uri": "https://localhost:8080/"
        },
        "id": "InbNx5ut2-gS",
        "outputId": "fa45d805-979a-40ac-93f1-f5c6ac2847ec"
      },
      "execution_count": null,
      "outputs": [
        {
          "output_type": "stream",
          "name": "stdout",
          "text": [
            "AUC Score for Logistic Regression Classifier: 0.70 %\n",
            "AUC Score for kNN Classifier: 0.86 %\n"
          ]
        }
      ]
    },
    {
      "cell_type": "code",
      "source": [
        "#ROC curve \n",
        "from sklearn.metrics import roc_curve\n",
        "#fpr_nb, tpr_nb, threshold_nb = roc_curve(y_test1, y_test_predict_nb)\n",
        "fpr_lg, tpr_lg, threshold_lg = roc_curve(y_test1, y_test_predict_lg)\n",
        "fpr_knn, tpr_knn, threshold_knn = roc_curve(y_test1, y_test_predict_knn)\n",
        "plt.plot([0, 1], [0, 1], linestyle = '--', label = 'Baseline')\n",
        "#plt.plot(fpr_nb, tpr_nb, color = 'red', label = 'Naive Bayes Classifier')\n",
        "plt.plot(fpr_lg, tpr_lg, color = 'red', label = 'Logistic Regression Classifier')\n",
        "plt.plot(fpr_knn, tpr_knn, color = 'black', label = 'kNN Classifier')\n",
        "\n",
        "plt.title('ROC Curve for Classifiers')\n",
        "plt.xlabel('False Positive Rate')\n",
        "plt.ylabel('True Positive Rate')\n",
        "plt.legend()\n",
        "\n",
        "plt.show()\n",
        "# boh KNN and LRC works nicely but kNN has lesser fP rate...so would be optimal model"
      ],
      "metadata": {
        "colab": {
          "base_uri": "https://localhost:8080/",
          "height": 295
        },
        "id": "_BmESx3U3R1n",
        "outputId": "65cd898b-530b-4b23-9a61-790d5c658ed6"
      },
      "execution_count": null,
      "outputs": [
        {
          "output_type": "display_data",
          "data": {
            "text/plain": [
              "<Figure size 432x288 with 1 Axes>"
            ],
            "image/png": "[encoded data removed]"
          },
          "metadata": {
            "needs_background": "light"
          }
        }
      ]
    }
  ]
}